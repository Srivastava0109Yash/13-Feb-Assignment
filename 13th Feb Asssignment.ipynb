{
 "cells": [
  {
   "cell_type": "markdown",
   "id": "74e8e06d",
   "metadata": {},
   "source": [
    "### Q1. Explain why we have to use the Exception class while creating a Custom Exception."
   ]
  },
  {
   "cell_type": "markdown",
   "id": "3f491bbe",
   "metadata": {},
   "source": [
    "Its recommended to create a custom exception by defining a new class that inherits from 'Exception' class because it serves as the base class for all\n",
    "exceptions,and provide a common way to handle exceptions.\n",
    "\n",
    "By using custom exception class, you can create specific exception types that can be raised and caught in a specific way, that makes our code more structured and easy to understand and maintain"
   ]
  },
  {
   "cell_type": "markdown",
   "id": "02e72e57",
   "metadata": {},
   "source": [
    "### Q2. Write a python program to print Python Exception Hierarchy."
   ]
  },
  {
   "cell_type": "code",
   "execution_count": 10,
   "id": "1c348072",
   "metadata": {},
   "outputs": [
    {
     "name": "stdout",
     "output_type": "stream",
     "text": [
      "Exception\n",
      "TypeError\n",
      "FloatOperation\n",
      "MultipartConversionError\n",
      "StopAsyncIteration\n",
      "StopIteration\n",
      "ImportError\n",
      "ModuleNotFoundError\n",
      "ZipImportError\n",
      "OSError\n",
      "ConnectionError\n",
      "BrokenPipeError\n",
      "ConnectionAbortedError\n",
      "ConnectionRefusedError\n",
      "ConnectionResetError\n",
      "RemoteDisconnected\n",
      "BlockingIOError\n",
      "ChildProcessError\n",
      "FileExistsError\n",
      "FileNotFoundError\n",
      "IsADirectoryError\n",
      "NotADirectoryError\n",
      "InterruptedError\n",
      "InterruptedSystemCall\n",
      "PermissionError\n",
      "ProcessLookupError\n",
      "TimeoutError\n",
      "UnsupportedOperation\n",
      "herror\n",
      "gaierror\n",
      "timeout\n",
      "SSLError\n",
      "SSLCertVerificationError\n",
      "SSLZeroReturnError\n",
      "SSLWantReadError\n",
      "SSLWantWriteError\n",
      "SSLSyscallError\n",
      "SSLEOFError\n",
      "Error\n",
      "SameFileError\n",
      "SpecialFileError\n",
      "ExecError\n",
      "ReadError\n",
      "URLError\n",
      "HTTPError\n",
      "ContentTooShortError\n",
      "BadGzipFile\n",
      "EOFError\n",
      "IncompleteReadError\n",
      "RuntimeError\n",
      "RecursionError\n",
      "NotImplementedError\n",
      "ZMQVersionError\n",
      "StdinNotImplementedError\n",
      "_DeadlockError\n",
      "BrokenBarrierError\n",
      "BrokenExecutor\n",
      "BrokenThreadPool\n",
      "SendfileNotAvailableError\n",
      "ExtractionError\n",
      "VariableError\n",
      "NameError\n",
      "UnboundLocalError\n",
      "AttributeError\n",
      "FrozenInstanceError\n",
      "SyntaxError\n",
      "IndentationError\n",
      "TabError\n",
      "LookupError\n",
      "IndexError\n",
      "KeyError\n",
      "NoSuchKernel\n",
      "UnknownBackend\n",
      "CodecRegistryError\n",
      "ValueError\n",
      "UnicodeError\n",
      "UnicodeEncodeError\n",
      "UnicodeDecodeError\n",
      "UnicodeTranslateError\n",
      "UnsupportedOperation\n",
      "JSONDecodeError\n",
      "SSLCertVerificationError\n",
      "Error\n",
      "IllegalMonthError\n",
      "IllegalWeekdayError\n",
      "ParserError\n",
      "ClassNotFound\n",
      "ClipboardEmpty\n",
      "MessageDefect\n",
      "NoBoundaryInMultipartDefect\n",
      "StartBoundaryNotFoundDefect\n",
      "CloseBoundaryNotFoundDefect\n",
      "FirstHeaderLineIsContinuationDefect\n",
      "MisplacedEnvelopeHeaderDefect\n",
      "MissingHeaderBodySeparatorDefect\n",
      "MultipartInvariantViolationDefect\n",
      "InvalidMultipartContentTransferEncodingDefect\n",
      "UndecodableBytesDefect\n",
      "InvalidBase64PaddingDefect\n",
      "InvalidBase64CharactersDefect\n",
      "InvalidBase64LengthDefect\n",
      "HeaderDefect\n",
      "InvalidHeaderDefect\n",
      "HeaderMissingRequiredValue\n",
      "NonPrintableDefect\n",
      "ObsoleteHeaderDefect\n",
      "NonASCIILocalPartDefect\n",
      "MacroToEdit\n",
      "InvalidFileException\n",
      "UnequalIterablesError\n",
      "InvalidVersion\n",
      "_InvalidELFFileHeader\n",
      "InvalidWheelFilename\n",
      "InvalidSdistFilename\n",
      "InvalidSpecifier\n",
      "InvalidMarker\n",
      "UndefinedComparison\n",
      "UndefinedEnvironmentName\n",
      "InvalidRequirement\n",
      "RequirementParseError\n",
      "InvalidVersion\n",
      "AssertionError\n",
      "ArithmeticError\n",
      "FloatingPointError\n",
      "OverflowError\n",
      "ZeroDivisionError\n",
      "DivisionByZero\n",
      "DivisionUndefined\n",
      "DecimalException\n",
      "Clamped\n",
      "Rounded\n",
      "Underflow\n",
      "Overflow\n",
      "Inexact\n",
      "Underflow\n",
      "Overflow\n",
      "Subnormal\n",
      "Underflow\n",
      "DivisionByZero\n",
      "FloatOperation\n",
      "InvalidOperation\n",
      "ConversionSyntax\n",
      "DivisionImpossible\n",
      "DivisionUndefined\n",
      "InvalidContext\n",
      "SystemError\n",
      "CodecRegistryError\n",
      "ReferenceError\n",
      "MemoryError\n",
      "BufferError\n",
      "Warning\n",
      "UserWarning\n",
      "GetPassWarning\n",
      "FormatterWarning\n",
      "DeprecationWarning\n",
      "ProvisionalWarning\n",
      "PendingDeprecationWarning\n",
      "SyntaxWarning\n",
      "RuntimeWarning\n",
      "ProactorSelectorThreadWarning\n",
      "UnknownTimezoneWarning\n",
      "PEP440Warning\n",
      "FutureWarning\n",
      "ProvisionalCompleterWarning\n",
      "ImportWarning\n",
      "UnicodeWarning\n",
      "BytesWarning\n",
      "ResourceWarning\n",
      "DeprecatedTzFormatWarning\n",
      "PkgResourcesDeprecationWarning\n",
      "Error\n",
      "_OptionError\n",
      "error\n",
      "Verbose\n",
      "_Error\n",
      "SubprocessError\n",
      "CalledProcessError\n",
      "TimeoutExpired\n",
      "TokenError\n",
      "StopTokenizing\n",
      "ClassFoundException\n",
      "EndOfBlock\n",
      "TraitError\n",
      "Error\n",
      "Error\n",
      "CancelledError\n",
      "TimeoutError\n",
      "InvalidStateError\n",
      "_GiveupOnSendfile\n",
      "error\n",
      "Incomplete\n",
      "TimeoutError\n",
      "InvalidStateError\n",
      "LimitOverrunError\n",
      "QueueEmpty\n",
      "QueueFull\n",
      "error\n",
      "LZMAError\n",
      "RegistryError\n",
      "_GiveupOnFastCopy\n",
      "Empty\n",
      "Full\n",
      "ZMQBaseError\n",
      "ZMQError\n",
      "ContextTerminated\n",
      "Again\n",
      "InterruptedSystemCall\n",
      "ZMQBindError\n",
      "NotDone\n",
      "PickleError\n",
      "PicklingError\n",
      "UnpicklingError\n",
      "_Stop\n",
      "ArgumentError\n",
      "ArgumentTypeError\n",
      "ConfigError\n",
      "ConfigLoaderError\n",
      "ArgumentError\n",
      "ConfigFileNotFound\n",
      "ConfigurableError\n",
      "MultipleInstanceError\n",
      "ApplicationError\n",
      "COMError\n",
      "ArgumentError\n",
      "ReturnValueIgnoredError\n",
      "KeyReuseError\n",
      "UnknownKeyError\n",
      "LeakedCallbackError\n",
      "BadYieldError\n",
      "ReturnValueIgnoredError\n",
      "Return\n",
      "InvalidPortNumber\n",
      "NoIPAddresses\n",
      "BadZipFile\n",
      "LargeZipFile\n",
      "Error\n",
      "NoSectionError\n",
      "DuplicateSectionError\n",
      "DuplicateOptionError\n",
      "NoOptionError\n",
      "InterpolationError\n",
      "InterpolationMissingOptionError\n",
      "InterpolationSyntaxError\n",
      "InterpolationDepthError\n",
      "ParsingError\n",
      "MissingSectionHeaderError\n",
      "BadEntryPoint\n",
      "NoSuchEntryPoint\n",
      "DuplicateKernelError\n",
      "ErrorDuringImport\n",
      "NotOneValueFound\n",
      "CannotEval\n",
      "OptionError\n",
      "BdbQuit\n",
      "Restart\n",
      "FindCmdError\n",
      "HomeDirError\n",
      "ProfileDirError\n",
      "IPythonCoreError\n",
      "TryNext\n",
      "UsageError\n",
      "StdinNotImplementedError\n",
      "InputRejected\n",
      "GetoptError\n",
      "ErrorToken\n",
      "PrefilterError\n",
      "AliasError\n",
      "InvalidAliasError\n",
      "Error\n",
      "InterfaceError\n",
      "DatabaseError\n",
      "InternalError\n",
      "OperationalError\n",
      "ProgrammingError\n",
      "IntegrityError\n",
      "DataError\n",
      "NotSupportedError\n",
      "Warning\n",
      "SpaceInInput\n",
      "DOMException\n",
      "IndexSizeErr\n",
      "DomstringSizeErr\n",
      "HierarchyRequestErr\n",
      "WrongDocumentErr\n",
      "InvalidCharacterErr\n",
      "NoDataAllowedErr\n",
      "NoModificationAllowedErr\n",
      "NotFoundErr\n",
      "NotSupportedErr\n",
      "InuseAttributeErr\n",
      "InvalidStateErr\n",
      "SyntaxErr\n",
      "InvalidModificationErr\n",
      "NamespaceErr\n",
      "InvalidAccessErr\n",
      "ValidationErr\n",
      "ValidationError\n",
      "EditReadOnlyBuffer\n",
      "_Retry\n",
      "InvalidLayoutError\n",
      "HeightIsUnknownError\n",
      "ParserSyntaxError\n",
      "InternalParseError\n",
      "_PositionUpdatingFinished\n",
      "SimpleGetItemNotFound\n",
      "UncaughtAttributeError\n",
      "HasNoContext\n",
      "ParamIssue\n",
      "_JediError\n",
      "InternalError\n",
      "WrongVersion\n",
      "RefactoringError\n",
      "OnErrorLeaf\n",
      "InvalidPythonEnvironment\n",
      "MessageError\n",
      "MessageParseError\n",
      "HeaderParseError\n",
      "BoundaryError\n",
      "MultipartConversionError\n",
      "CharsetError\n",
      "Error\n",
      "HTTPException\n",
      "NotConnected\n",
      "InvalidURL\n",
      "UnknownProtocol\n",
      "UnknownTransferEncoding\n",
      "UnimplementedFileMode\n",
      "IncompleteRead\n",
      "ImproperConnectionState\n",
      "CannotSendRequest\n",
      "CannotSendHeader\n",
      "ResponseNotReady\n",
      "BadStatusLine\n",
      "RemoteDisconnected\n",
      "LineTooLong\n",
      "InteractivelyDefined\n",
      "KillEmbedded\n",
      "Error\n",
      "NoSuchProcess\n",
      "ZombieProcess\n",
      "AccessDenied\n",
      "TimeoutExpired\n",
      "Error\n",
      "TimeoutExpired\n",
      "TimeoutAbandoned\n",
      "QueueEmpty\n",
      "QueueFull\n",
      "ExpatError\n",
      "Error\n",
      "ProtocolError\n",
      "ResponseError\n",
      "Fault\n",
      "error\n",
      "com_error\n",
      "internal_error\n",
      "ParseBaseException\n",
      "ParseException\n",
      "ParseFatalException\n",
      "ParseSyntaxException\n",
      "RecursiveGrammarException\n",
      "ResolutionError\n",
      "VersionConflict\n",
      "ContextualVersionConflict\n",
      "DistributionNotFound\n",
      "UnknownExtra\n",
      "UnableToResolveVariableException\n",
      "InvalidTypeInArgsException\n"
     ]
    }
   ],
   "source": [
    "def hierarchy(exception_class):\n",
    "    print(exception_class.__name__)\n",
    "    for subclass in exception_class.__subclasses__():\n",
    "        hierarchy(subclass)\n",
    "\n",
    "hierarchy(Exception)"
   ]
  },
  {
   "cell_type": "markdown",
   "id": "9ad298c6",
   "metadata": {},
   "source": [
    "### Q3. What errors are defined in the ArithmeticError class? Explain any two with an example."
   ]
  },
  {
   "cell_type": "markdown",
   "id": "448fc61e",
   "metadata": {},
   "source": [
    "The ArithmeticError class is a subclass of the Exception class in Python and is used to indicate errors related to arithmetic operations.\n",
    "Some of the errors are:"
   ]
  },
  {
   "cell_type": "markdown",
   "id": "73fe948d",
   "metadata": {},
   "source": [
    "1. __ZeroDivisionError__: This error is raised when you try to divide a number by zero"
   ]
  },
  {
   "cell_type": "code",
   "execution_count": 11,
   "id": "baf20802",
   "metadata": {},
   "outputs": [
    {
     "ename": "ZeroDivisionError",
     "evalue": "division by zero",
     "output_type": "error",
     "traceback": [
      "\u001b[1;31m---------------------------------------------------------------------------\u001b[0m",
      "\u001b[1;31mZeroDivisionError\u001b[0m                         Traceback (most recent call last)",
      "Input \u001b[1;32mIn [11]\u001b[0m, in \u001b[0;36m<cell line: 1>\u001b[1;34m()\u001b[0m\n\u001b[1;32m----> 1\u001b[0m \u001b[38;5;241;43m2\u001b[39;49m\u001b[38;5;241;43m/\u001b[39;49m\u001b[38;5;241;43m0\u001b[39;49m\n",
      "\u001b[1;31mZeroDivisionError\u001b[0m: division by zero"
     ]
    }
   ],
   "source": [
    "2/0"
   ]
  },
  {
   "cell_type": "markdown",
   "id": "d876d399",
   "metadata": {},
   "source": [
    "2. __OverflowError__: This error is raised when an arithmetic operation results in a number that is too large to be represented"
   ]
  },
  {
   "cell_type": "code",
   "execution_count": 1,
   "id": "11d4ac5c",
   "metadata": {},
   "outputs": [
    {
     "ename": "OverflowError",
     "evalue": "math range error",
     "output_type": "error",
     "traceback": [
      "\u001b[1;31m---------------------------------------------------------------------------\u001b[0m",
      "\u001b[1;31mOverflowError\u001b[0m                             Traceback (most recent call last)",
      "Input \u001b[1;32mIn [1]\u001b[0m, in \u001b[0;36m<cell line: 2>\u001b[1;34m()\u001b[0m\n\u001b[0;32m      1\u001b[0m \u001b[38;5;28;01mimport\u001b[39;00m \u001b[38;5;21;01mmath\u001b[39;00m\n\u001b[1;32m----> 2\u001b[0m \u001b[38;5;28mprint\u001b[39m(\u001b[43mmath\u001b[49m\u001b[38;5;241;43m.\u001b[39;49m\u001b[43mexp\u001b[49m\u001b[43m(\u001b[49m\u001b[38;5;241;43m1000\u001b[39;49m\u001b[43m)\u001b[49m)\n",
      "\u001b[1;31mOverflowError\u001b[0m: math range error"
     ]
    }
   ],
   "source": [
    "import math\n",
    "print(math.exp(1000))"
   ]
  },
  {
   "cell_type": "markdown",
   "id": "08a84982",
   "metadata": {},
   "source": [
    "### Q4. Why LookupError class is used? Explain with an example KeyError and IndexError."
   ]
  },
  {
   "cell_type": "markdown",
   "id": "34f90980",
   "metadata": {},
   "source": [
    "__LookupError__ class in python is subclass of the Exception class, and it is used to indicate an error which occur when a value for which we are looking for in not present in the data structure"
   ]
  },
  {
   "cell_type": "markdown",
   "id": "3d7bbe29",
   "metadata": {},
   "source": [
    "1. __KeyError__ : it is raised when you access a dictionary key that doesn't exist. "
   ]
  },
  {
   "cell_type": "code",
   "execution_count": 3,
   "id": "3c3bbea1",
   "metadata": {},
   "outputs": [
    {
     "ename": "KeyError",
     "evalue": "'d'",
     "output_type": "error",
     "traceback": [
      "\u001b[1;31m---------------------------------------------------------------------------\u001b[0m",
      "\u001b[1;31mKeyError\u001b[0m                                  Traceback (most recent call last)",
      "Input \u001b[1;32mIn [3]\u001b[0m, in \u001b[0;36m<cell line: 3>\u001b[1;34m()\u001b[0m\n\u001b[0;32m      1\u001b[0m \u001b[38;5;66;03m# example:\u001b[39;00m\n\u001b[0;32m      2\u001b[0m dic\u001b[38;5;241m=\u001b[39m{\u001b[38;5;124m\"\u001b[39m\u001b[38;5;124ma\u001b[39m\u001b[38;5;124m\"\u001b[39m:\u001b[38;5;241m1\u001b[39m,\u001b[38;5;124m\"\u001b[39m\u001b[38;5;124mb\u001b[39m\u001b[38;5;124m\"\u001b[39m:\u001b[38;5;241m2\u001b[39m}\n\u001b[1;32m----> 3\u001b[0m \u001b[43mdic\u001b[49m\u001b[43m[\u001b[49m\u001b[38;5;124;43m\"\u001b[39;49m\u001b[38;5;124;43md\u001b[39;49m\u001b[38;5;124;43m\"\u001b[39;49m\u001b[43m]\u001b[49m\n",
      "\u001b[1;31mKeyError\u001b[0m: 'd'"
     ]
    }
   ],
   "source": [
    "# example:\n",
    "dic={\"a\":1,\"b\":2}\n",
    "dic[\"d\"]"
   ]
  },
  {
   "cell_type": "markdown",
   "id": "352baa0e",
   "metadata": {},
   "source": [
    "2. __IndexError__: This error is raised when you try to access a list index that is out of range."
   ]
  },
  {
   "cell_type": "code",
   "execution_count": 5,
   "id": "9f23ac22",
   "metadata": {},
   "outputs": [
    {
     "ename": "IndexError",
     "evalue": "list index out of range",
     "output_type": "error",
     "traceback": [
      "\u001b[1;31m---------------------------------------------------------------------------\u001b[0m",
      "\u001b[1;31mIndexError\u001b[0m                                Traceback (most recent call last)",
      "Input \u001b[1;32mIn [5]\u001b[0m, in \u001b[0;36m<cell line: 2>\u001b[1;34m()\u001b[0m\n\u001b[0;32m      1\u001b[0m lst\u001b[38;5;241m=\u001b[39m[\u001b[38;5;241m1\u001b[39m,\u001b[38;5;241m2\u001b[39m,\u001b[38;5;241m3\u001b[39m,\u001b[38;5;241m4\u001b[39m]\n\u001b[1;32m----> 2\u001b[0m \u001b[43mlst\u001b[49m\u001b[43m[\u001b[49m\u001b[38;5;241;43m8\u001b[39;49m\u001b[43m]\u001b[49m\n",
      "\u001b[1;31mIndexError\u001b[0m: list index out of range"
     ]
    }
   ],
   "source": [
    "lst=[1,2,3,4]\n",
    "lst[8]"
   ]
  },
  {
   "cell_type": "markdown",
   "id": "1e8ae223",
   "metadata": {},
   "source": [
    "### Q5. Explain ImportError. What is ModuleNotFoundError?\n"
   ]
  },
  {
   "cell_type": "markdown",
   "id": "6019c6a2",
   "metadata": {},
   "source": [
    "ImportError is a class of exceptions in Python that is raised when an import statement fails."
   ]
  },
  {
   "cell_type": "markdown",
   "id": "aca0d6c9",
   "metadata": {},
   "source": [
    "it can occur if:\n",
    "\n",
    "    1. the module imported doesn't exist in list of directories.\n",
    "    2. the module imported depends on another module that could not be imported"
   ]
  },
  {
   "cell_type": "code",
   "execution_count": 7,
   "id": "29eeab3b",
   "metadata": {},
   "outputs": [
    {
     "ename": "ModuleNotFoundError",
     "evalue": "No module named 'Gravity'",
     "output_type": "error",
     "traceback": [
      "\u001b[1;31m---------------------------------------------------------------------------\u001b[0m",
      "\u001b[1;31mModuleNotFoundError\u001b[0m                       Traceback (most recent call last)",
      "Input \u001b[1;32mIn [7]\u001b[0m, in \u001b[0;36m<cell line: 3>\u001b[1;34m()\u001b[0m\n\u001b[0;32m      1\u001b[0m \u001b[38;5;66;03m#example:\u001b[39;00m\n\u001b[1;32m----> 3\u001b[0m \u001b[38;5;28;01mimport\u001b[39;00m \u001b[38;5;21;01mGravity\u001b[39;00m\n",
      "\u001b[1;31mModuleNotFoundError\u001b[0m: No module named 'Gravity'"
     ]
    }
   ],
   "source": [
    "#example:\n",
    "\n",
    "import Gravity"
   ]
  },
  {
   "cell_type": "markdown",
   "id": "6e9912d6",
   "metadata": {},
   "source": [
    "### Q6. List down some best practices for exception handling in python."
   ]
  },
  {
   "cell_type": "markdown",
   "id": "43054a6a",
   "metadata": {},
   "source": [
    "1.  Catch exceptions as narrowly as possible: Instead of catching a broad exception like Exception, catch only the exceptions that you know how to handle."
   ]
  },
  {
   "cell_type": "markdown",
   "id": "e770b494",
   "metadata": {},
   "source": [
    "2. Avoid catching too many exceptions: It is generally best to only catch exceptions that you know how to handle. If you catch too many exceptions, you may hide programming errors or bugs that would otherwise be more easily detected."
   ]
  },
  {
   "cell_type": "markdown",
   "id": "1fb508d1",
   "metadata": {},
   "source": [
    "3. Use the built-in logging module for logging exceptions: The built-in logging module is a powerful tool for logging information about errors and other events in your application. Use it to log exceptions and other errors so that you can diagnose problems more easily."
   ]
  },
  {
   "cell_type": "markdown",
   "id": "2499a385",
   "metadata": {},
   "source": [
    "4. When raising an exception, provide a meaningful error message that explains the problem. This will make it easier for other developers to understand what went wrong, and it will make debugging easier in case of an error."
   ]
  },
  {
   "cell_type": "markdown",
   "id": "36b498ac",
   "metadata": {},
   "source": [
    "5. Don't catch exceptions that you can't handle: If you catch an exception and don't know how to handle it, it is better to simply propagate the exception up the call stack rather than catch and ignore it."
   ]
  },
  {
   "cell_type": "code",
   "execution_count": null,
   "id": "9100eae9",
   "metadata": {},
   "outputs": [],
   "source": []
  }
 ],
 "metadata": {
  "kernelspec": {
   "display_name": "Python 3 (ipykernel)",
   "language": "python",
   "name": "python3"
  },
  "language_info": {
   "codemirror_mode": {
    "name": "ipython",
    "version": 3
   },
   "file_extension": ".py",
   "mimetype": "text/x-python",
   "name": "python",
   "nbconvert_exporter": "python",
   "pygments_lexer": "ipython3",
   "version": "3.9.13"
  }
 },
 "nbformat": 4,
 "nbformat_minor": 5
}
